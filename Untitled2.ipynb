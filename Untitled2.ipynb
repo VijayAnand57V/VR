{
  "nbformat": 4,
  "nbformat_minor": 0,
  "metadata": {
    "colab": {
      "name": "Untitled2.ipynb",
      "provenance": [],
      "collapsed_sections": [],
      "authorship_tag": "ABX9TyMOzEsOGGLko4ZM2VJeRo53",
      "include_colab_link": true
    },
    "kernelspec": {
      "name": "python3",
      "display_name": "Python 3"
    }
  },
  "cells": [
    {
      "cell_type": "markdown",
      "metadata": {
        "id": "view-in-github",
        "colab_type": "text"
      },
      "source": [
        "<a href=\"https://colab.research.google.com/github/VijayAnand57V/VR/blob/master/Untitled2.ipynb\" target=\"_parent\"><img src=\"https://colab.research.google.com/assets/colab-badge.svg\" alt=\"Open In Colab\"/></a>"
      ]
    },
    {
      "cell_type": "code",
      "metadata": {
        "id": "vlW1UYJ0Off4",
        "colab_type": "code",
        "colab": {}
      },
      "source": [
        "# Reading an excel file using Python \n",
        "import xlrd \n",
        "import pandas as pd\n",
        "df2 = pd.read_csv(\"CSK.csv\")#Here we need change the file name for each team we execute\n"
      ],
      "execution_count": 0,
      "outputs": []
    },
    {
      "cell_type": "code",
      "metadata": {
        "id": "1JvJjw5YoxTX",
        "colab_type": "code",
        "colab": {}
      },
      "source": [
        "def place(team):\n",
        "  dn =[\"CSK.csv\",\"DC.csv\",\"KKR.csv\",\"KXIP.csv\",\"MI.csv\",\"rcb.csv\",\"RR.csv\",\"SRH.csv\"]\n",
        "  df2 = pd.read_csv(team)\n",
        "  return df2"
      ],
      "execution_count": 0,
      "outputs": []
    },
    {
      "cell_type": "code",
      "metadata": {
        "id": "prRpAXhPU1Y9",
        "colab_type": "code",
        "colab": {}
      },
      "source": [
        "def running_average(player):\n",
        "  df2 = pd.read_csv(\"CSK.csv\")#Reading data inside the function is not applicable here\n",
        "\n",
        "  df5 = df2.loc[df2['Player Name'] == player]\n",
        "  df5.reset_index(inplace = True) \n",
        "  #print(df5['Bat Avg'])\n",
        "  df4 =0 \n",
        "  for avg in range(len(df5)):\n",
        "    try:\n",
        "      df3 = (df5['Bat Avg'][avg]-df5['Bat Avg'][avg+1])\n",
        "      #print(df3)\n",
        "      df4 = df4+df3\n",
        "      #print(\"Sum is\",df4)\n",
        "    except KeyError:\n",
        "      print('')\n",
        "    \n",
        "  print(\"Running average of\",player, \"is\",df4)\n",
        "    "
      ],
      "execution_count": 0,
      "outputs": []
    },
    {
      "cell_type": "code",
      "metadata": {
        "id": "4v1x09MCnVXS",
        "colab_type": "code",
        "colab": {}
      },
      "source": [
        "def running_wickets(player):\n",
        "  df5 = df2.loc[df2['Player Name'] == player]\n",
        "  df5.reset_index(inplace = True) \n",
        "  #print(df5['Bat Avg'])\n",
        "  df4 =0 \n",
        "  for avg in range(len(df5)):\n",
        "    try:\n",
        "      df3 = (df5['Wickets'][avg]-df5['Wickets'][avg+1])\n",
        "      #print(df3)\n",
        "      df4 = df4+df3\n",
        "      #print(\"Sum is\",df4)\n",
        "    except KeyError:\n",
        "      print('')\n",
        "    \n",
        "  print(\"Running average of\",player, \"is\",df4)"
      ],
      "execution_count": 0,
      "outputs": []
    },
    {
      "cell_type": "code",
      "metadata": {
        "id": "tYa6UAIMZz__",
        "colab_type": "code",
        "colab": {
          "base_uri": "https://localhost:8080/",
          "height": 716
        },
        "outputId": "3d5d1825-9b5c-4eaa-907f-a994a9db0d40"
      },
      "source": [
        "players =[\"\"]\n",
        "# players = [\"Jadeja, R A\",\"Vijay, M\",\"Dhoni, M S\",\"Jadhav, K M\",\"Harbhajan Singh\",\"Sharma, K V\",\"\"]\n",
        "# df2.loc[df2['Player Name'].unique()]\n",
        "# running_average(\"\")\n",
        "players = df2['Player Name'].unique()\n",
        "print(players)\n",
        "print('Running batting average for batsmen')\n",
        "for cric in range(len(players)):\n",
        "  running_average(players[cric])"
      ],
      "execution_count": 211,
      "outputs": [
        {
          "output_type": "stream",
          "text": [
            "['Asif, K M' 'Jadeja, R A' 'Vijay, M' 'Dhoni, M S' 'Jadhav, K M'\n",
            " 'Harbhajan Singh' 'Sharma, K V' 'Chawla, P P' 'Rayudu, A T' 'Raina, S K'\n",
            " 'Imran Tahir' 'Chahar, D L' 'du Plessis, F' 'Thakur, S N' 'Santner, M J'\n",
            " 'Bravo, D J J' 'Ngidi, L' 'Curran, S M' 'Watson, S R']\n",
            "Running batting average for batsmen\n",
            "\n",
            "Running average of Asif, K M is 0\n",
            "\n",
            "Running average of Jadeja, R A is -16.04\n",
            "\n",
            "Running average of Vijay, M is -17.0\n",
            "\n",
            "Running average of Dhoni, M S is -41.800000000000004\n",
            "\n",
            "Running average of Jadhav, K M is 7.329999999999998\n",
            "\n",
            "Running average of Harbhajan Singh is 14.0\n",
            "\n",
            "Running average of Sharma, K V is 1.0\n",
            "\n",
            "Running average of Chawla, P P is 8.5\n",
            "\n",
            "Running average of Rayudu, A T is 3.879999999999999\n",
            "\n",
            "Running average of Raina, S K is 14.330000000000002\n",
            "\n",
            "Running average of Imran Tahir is 4.0\n",
            "\n",
            "Running average of Chahar, D L is -3.5\n",
            "\n",
            "Running average of du Plessis, F is -2.8299999999999983\n",
            "\n",
            "Running average of Thakur, S N is -7.0\n",
            "\n",
            "Running average of Santner, M J is 0\n",
            "\n",
            "Running average of Bravo, D J J is 12.870000000000001\n",
            "\n",
            "Running average of Ngidi, L is 0\n",
            "\n",
            "Running average of Curran, S M is 0\n",
            "\n",
            "Running average of Watson, S R is 23.790000000000003\n"
          ],
          "name": "stdout"
        }
      ]
    },
    {
      "cell_type": "code",
      "metadata": {
        "id": "5z7Yqh8yn19Y",
        "colab_type": "code",
        "colab": {}
      },
      "source": [
        ""
      ],
      "execution_count": 0,
      "outputs": []
    },
    {
      "cell_type": "code",
      "metadata": {
        "id": "b4Idgqnqkq9_",
        "colab_type": "code",
        "colab": {
          "base_uri": "https://localhost:8080/",
          "height": 716
        },
        "outputId": "53f4028c-e794-4853-e2e4-6c3457d8f7a8"
      },
      "source": [
        "players =[\"\"]\n",
        "# players = [\"Jadeja, R A\",\"Vijay, M\",\"Dhoni, M S\",\"Jadhav, K M\",\"Harbhajan Singh\",\"Sharma, K V\",\"\"]\n",
        "# df2.loc[df2['Player Name'].unique()]\n",
        "# running_average(\"\")\n",
        "players = df2['Player Name'].unique()\n",
        "print(players)\n",
        "print('Running batting average for bowlers')\n",
        "for cric in range(len(players)):\n",
        "  running_wickets(players[cric])"
      ],
      "execution_count": 212,
      "outputs": [
        {
          "output_type": "stream",
          "text": [
            "['Asif, K M' 'Jadeja, R A' 'Vijay, M' 'Dhoni, M S' 'Jadhav, K M'\n",
            " 'Harbhajan Singh' 'Sharma, K V' 'Chawla, P P' 'Rayudu, A T' 'Raina, S K'\n",
            " 'Imran Tahir' 'Chahar, D L' 'du Plessis, F' 'Thakur, S N' 'Santner, M J'\n",
            " 'Bravo, D J J' 'Ngidi, L' 'Curran, S M' 'Watson, S R']\n",
            "Running batting average for bowlers\n",
            "\n",
            "Running average of Asif, K M is 0\n",
            "\n",
            "Running average of Jadeja, R A is -15\n",
            "\n",
            "Running average of Vijay, M is 0\n",
            "\n",
            "Running average of Dhoni, M S is 0\n",
            "\n",
            "Running average of Jadhav, K M is 0\n",
            "\n",
            "Running average of Harbhajan Singh is -11\n",
            "\n",
            "Running average of Sharma, K V is -1\n",
            "\n",
            "Running average of Chawla, P P is 7\n",
            "\n",
            "Running average of Rayudu, A T is 0\n",
            "\n",
            "Running average of Raina, S K is 1\n",
            "\n",
            "Running average of Imran Tahir is -17\n",
            "\n",
            "Running average of Chahar, D L is -22\n",
            "\n",
            "Running average of du Plessis, F is 0\n",
            "\n",
            "Running average of Thakur, S N is -7\n",
            "\n",
            "Running average of Santner, M J is 0\n",
            "\n",
            "Running average of Bravo, D J J is 0\n",
            "\n",
            "Running average of Ngidi, L is 0\n",
            "\n",
            "Running average of Curran, S M is 0\n",
            "\n",
            "Running average of Watson, S R is 17\n"
          ],
          "name": "stdout"
        }
      ]
    }
  ]
}